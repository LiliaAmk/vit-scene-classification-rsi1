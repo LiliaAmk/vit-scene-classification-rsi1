{
 "cells": [
  {
   "cell_type": "markdown",
   "id": "cc2a102b",
   "metadata": {},
   "source": [
    "## Import packages"
   ]
  },
  {
   "cell_type": "code",
   "execution_count": null,
   "id": "be09f367",
   "metadata": {},
   "outputs": [],
   "source": [
    "from transformers import ViTForImageClassification, ViTFeatureExtractor\n",
    "from torchvision import datasets, transforms\n",
    "from torch.utils.data import DataLoader\n",
    "import torch.optim as optim\n",
    "import torch.nn as nn\n",
    "from tqdm import tqdm\n",
    "\n"
   ]
  },
  {
   "cell_type": "markdown",
   "id": "7cb5f154",
   "metadata": {},
   "source": [
    "## Pre-trained Vision Transformer (ViT) Model Setup for Image Classification"
   ]
  },
  {
   "cell_type": "code",
   "execution_count": 29,
   "id": "4b66eddf-e62f-4a75-a7e0-084119cb02c9",
   "metadata": {},
   "outputs": [
    {
     "name": "stderr",
     "output_type": "stream",
     "text": [
      "Some weights of ViTForImageClassification were not initialized from the model checkpoint at google/vit-base-patch16-224 and are newly initialized because the shapes did not match:\n",
      "- classifier.bias: found shape torch.Size([1000]) in the checkpoint and torch.Size([45]) in the model instantiated\n",
      "- classifier.weight: found shape torch.Size([1000, 768]) in the checkpoint and torch.Size([45, 768]) in the model instantiated\n",
      "You should probably TRAIN this model on a down-stream task to be able to use it for predictions and inference.\n"
     ]
    }
   ],
   "source": [
    "# Set device\n",
    "device = torch.device(\"cuda\" if torch.cuda.is_available() else \"cpu\")\n",
    "\n",
    "# Load pre-trained Vision Transformer model\n",
    "model = ViTForImageClassification.from_pretrained(\n",
    "    'google/vit-base-patch16-224', \n",
    "    num_labels=45,  \n",
    "    ignore_mismatched_sizes=True  # Ignore size mismatches in the classifier\n",
    ")\n",
    "\n",
    "model.to(device)\n",
    "\n",
    "# Load the feature extractor (for resizing and normalizing the input images)\n",
    "feature_extractor = ViTFeatureExtractor.from_pretrained('google/vit-base-patch16-224')\n"
   ]
  },
  {
   "cell_type": "markdown",
   "id": "49080488",
   "metadata": {},
   "source": [
    "## Dataset Preparation and DataLoader Setup for ViT Image Classification"
   ]
  },
  {
   "cell_type": "code",
   "execution_count": 52,
   "id": "b6bb77f8-848f-4d6e-9ddf-9c9d11266c14",
   "metadata": {},
   "outputs": [],
   "source": [
    "\n",
    "# Define image transforms for train and validation sets\n",
    "transform = transforms.Compose([\n",
    "    transforms.Resize((224, 224)),  # Resize the images to 224x224\n",
    "    transforms.ToTensor(),\n",
    "    transforms.Normalize(mean=feature_extractor.image_mean, std=feature_extractor.image_std)  # Use ViT's mean and std\n",
    "])\n",
    "\n",
    "# Load the training and validation datasets\n",
    "train_data_dir = 'NWPU-RESISC45-classification/train'\n",
    "test_data_dir = 'NWPU-RESISC45-classification/test'\n",
    "\n",
    "train_dataset = datasets.ImageFolder(train_data_dir, transform=transform)\n",
    "test_dataset = datasets.ImageFolder(test_data_dir, transform=transform)\n",
    "\n",
    "# Create DataLoaders for batching the data\n",
    "train_loader = DataLoader(train_dataset, batch_size=32, shuffle=True)\n",
    "val_loader = DataLoader(test_dataset, batch_size=32, shuffle=False)\n"
   ]
  },
  {
   "cell_type": "markdown",
   "id": "817e81d1",
   "metadata": {},
   "source": [
    "## Optimizer and Loss Function Setup for ViT Training\n"
   ]
  },
  {
   "cell_type": "code",
   "execution_count": 53,
   "id": "b394fa4c-b4d0-402e-8f34-b46fcc8f69c6",
   "metadata": {},
   "outputs": [],
   "source": [
    "# Define optimizer and loss function\n",
    "optimizer = optim.Adam(model.parameters(), lr=2e-5)  # Use Adam with a small learning rate\n",
    "criterion = nn.CrossEntropyLoss()  # Cross-entropy loss for multi-class classification\n"
   ]
  },
  {
   "cell_type": "markdown",
   "id": "f8a559ed",
   "metadata": {},
   "source": [
    "## Training Loop for Vision Transformer Model"
   ]
  },
  {
   "cell_type": "code",
   "execution_count": 54,
   "id": "2583cca0-cd85-43d2-82fe-03f82fe4f2de",
   "metadata": {},
   "outputs": [],
   "source": [
    "def train_model(model, train_loader, val_loader, num_epochs=5):\n",
    "    for epoch in range(num_epochs):\n",
    "        print(f\"Starting Epoch {epoch+1}/{num_epochs}\")\n",
    "        model.train()  # Set the model to training mode\n",
    "        running_loss = 0.0\n",
    "        correct = 0\n",
    "        total = 0\n",
    "\n",
    "        # Use tqdm for progress bar visualization\n",
    "        for batch_idx, (inputs, labels) in enumerate(tqdm(train_loader, desc=f\"Epoch {epoch+1}/{num_epochs}\")):\n",
    "            inputs, labels = inputs.to(device), labels.to(device)\n",
    "\n",
    "            # Zero the parameter gradients\n",
    "            optimizer.zero_grad()\n",
    "\n",
    "            # Forward pass\n",
    "            outputs = model(inputs).logits\n",
    "            loss = criterion(outputs, labels)\n",
    "            loss.backward()  # Backpropagation\n",
    "            optimizer.step()  # Update the weights\n",
    "\n",
    "            # Track loss and accuracy\n",
    "            running_loss += loss.item()\n",
    "            _, predicted = outputs.max(1)\n",
    "            total += labels.size(0)\n",
    "            correct += predicted.eq(labels).sum().item()\n",
    "\n",
    "        # Calculate accuracy and loss for this epoch\n",
    "        epoch_loss = running_loss / len(train_loader)\n",
    "        epoch_acc = 100. * correct / total\n",
    "        print(f\"Epoch [{epoch+1}/{num_epochs}] Loss: {epoch_loss:.4f} Accuracy: {epoch_acc:.2f}%\")\n",
    "\n",
    "        # Validate the model at the end of each epoch\n",
    "        validate_model(model, val_loader)\n"
   ]
  },
  {
   "cell_type": "code",
   "execution_count": null,
   "id": "57e111e0-8db2-427e-8179-e9e4a2fbc68c",
   "metadata": {},
   "outputs": [
    {
     "name": "stdout",
     "output_type": "stream",
     "text": [
      "Starting Epoch 1/5\n"
     ]
    },
    {
     "name": "stderr",
     "output_type": "stream",
     "text": [
      "Epoch 1/5: 100%|████████████████████████████| 788/788 [4:41:25<00:00, 21.43s/it]\n"
     ]
    },
    {
     "name": "stdout",
     "output_type": "stream",
     "text": [
      "Epoch [1/5] Loss: 0.8180 Accuracy: 84.06%\n",
      "Validation Accuracy: 93.51%\n",
      "\n",
      "Starting Epoch 2/5\n"
     ]
    },
    {
     "name": "stderr",
     "output_type": "stream",
     "text": [
      "Epoch 2/5:  90%|█████████████████████████   | 707/788 [4:08:00<24:02, 17.81s/it]"
     ]
    }
   ],
   "source": [
    "# Train the model for 5 epochs \n",
    "train_model(model, train_loader, val_loader, num_epochs=5)\n"
   ]
  },
  {
   "cell_type": "code",
   "execution_count": 48,
   "id": "52620d05-acac-49af-9ced-74d445401305",
   "metadata": {
    "scrolled": true
   },
   "outputs": [
    {
     "name": "stdout",
     "output_type": "stream",
     "text": [
      "Model saved to vit_model.pth\n"
     ]
    },
    {
     "data": {
      "text/plain": [
       "ViTForImageClassification(\n",
       "  (vit): ViTModel(\n",
       "    (embeddings): ViTEmbeddings(\n",
       "      (patch_embeddings): ViTPatchEmbeddings(\n",
       "        (projection): Conv2d(3, 768, kernel_size=(16, 16), stride=(16, 16))\n",
       "      )\n",
       "      (dropout): Dropout(p=0.0, inplace=False)\n",
       "    )\n",
       "    (encoder): ViTEncoder(\n",
       "      (layer): ModuleList(\n",
       "        (0-11): 12 x ViTLayer(\n",
       "          (attention): ViTSdpaAttention(\n",
       "            (attention): ViTSdpaSelfAttention(\n",
       "              (query): Linear(in_features=768, out_features=768, bias=True)\n",
       "              (key): Linear(in_features=768, out_features=768, bias=True)\n",
       "              (value): Linear(in_features=768, out_features=768, bias=True)\n",
       "              (dropout): Dropout(p=0.0, inplace=False)\n",
       "            )\n",
       "            (output): ViTSelfOutput(\n",
       "              (dense): Linear(in_features=768, out_features=768, bias=True)\n",
       "              (dropout): Dropout(p=0.0, inplace=False)\n",
       "            )\n",
       "          )\n",
       "          (intermediate): ViTIntermediate(\n",
       "            (dense): Linear(in_features=768, out_features=3072, bias=True)\n",
       "            (intermediate_act_fn): GELUActivation()\n",
       "          )\n",
       "          (output): ViTOutput(\n",
       "            (dense): Linear(in_features=3072, out_features=768, bias=True)\n",
       "            (dropout): Dropout(p=0.0, inplace=False)\n",
       "          )\n",
       "          (layernorm_before): LayerNorm((768,), eps=1e-12, elementwise_affine=True)\n",
       "          (layernorm_after): LayerNorm((768,), eps=1e-12, elementwise_affine=True)\n",
       "        )\n",
       "      )\n",
       "    )\n",
       "    (layernorm): LayerNorm((768,), eps=1e-12, elementwise_affine=True)\n",
       "  )\n",
       "  (classifier): Linear(in_features=768, out_features=45, bias=True)\n",
       ")"
      ]
     },
     "execution_count": 48,
     "metadata": {},
     "output_type": "execute_result"
    }
   ],
   "source": [
    "# Define the path where the model will be saved\n",
    "save_path = 'vit_model.pth'\n",
    "\n",
    "# Save the trained model\n",
    "torch.save(model.state_dict(), save_path)\n",
    "print(f\"Model saved to {save_path}\")\n",
    "\n",
    "# Load the model back (if needed)\n",
    "model.load_state_dict(torch.load(save_path, weights_only=True))\n",
    "\n",
    "model.to(device)  # Ensure the model is on the appropriate device\n"
   ]
  },
  {
   "cell_type": "markdown",
   "id": "0eb9d84f",
   "metadata": {},
   "source": [
    "## Optimize the model"
   ]
  },
  {
   "cell_type": "code",
   "execution_count": null,
   "id": "daf27ae6",
   "metadata": {},
   "outputs": [],
   "source": [
    "import torch.quantization as quantization\n",
    "\n",
    "def quantize_model(model):\n",
    "    model.eval()  # Ensure model is in evaluation mode\n",
    "    model.qconfig = quantization.default_qconfig  # Define quantization configuration\n",
    "    print(\"Preparing the model for quantization...\")\n",
    "    quantization.prepare(model, inplace=True)\n",
    "\n",
    "    # Dummy input data to calibrate the quantized model\n",
    "    input_tensor = torch.randn(1, 3, 224, 224)\n",
    "    model(input_tensor)\n",
    "\n",
    "    print(\"Converting model to quantized version...\")\n",
    "    quantization.convert(model, inplace=True)\n",
    "\n",
    "    return model\n",
    "\n",
    "# Quantize the trained model\n",
    "quantized_model = quantize_model(model)\n",
    "\n",
    "# Save the quantized model\n",
    "torch.save(quantized_model.state_dict(), 'quantized_vit_model.pth')\n",
    "print(\"Quantized model saved to quantized_vit_model.pth\")\n"
   ]
  },
  {
   "cell_type": "markdown",
   "id": "df8d33b9",
   "metadata": {},
   "source": [
    "## Model Pruning:"
   ]
  },
  {
   "cell_type": "code",
   "execution_count": null,
   "id": "04fa2ae7",
   "metadata": {},
   "outputs": [],
   "source": [
    "import torch.nn.utils.prune as prune\n",
    "\n",
    "def prune_model(model, amount=0.2):\n",
    "    # Define pruning on specific layers (for example, the ViT classifier layer)\n",
    "    for name, module in model.named_modules():\n",
    "        if isinstance(module, torch.nn.Linear):\n",
    "            prune.l1_unstructured(module, name='weight', amount=amount)  # Apply L1-norm unstructured pruning\n",
    "\n",
    "    return model\n",
    "\n",
    "# Prune 20% of the weights\n",
    "pruned_model = prune_model(model, amount=0.2)\n",
    "\n",
    "# Save the pruned model\n",
    "torch.save(pruned_model.state_dict(), 'pruned_vit_model.pth')\n",
    "print(\"Pruned model saved to pruned_vit_model.pth\")\n"
   ]
  },
  {
   "cell_type": "code",
   "execution_count": null,
   "id": "277df9fe-67b8-4ce0-b3c2-118dee0f0e6c",
   "metadata": {},
   "outputs": [],
   "source": []
  }
 ],
 "metadata": {
  "kernelspec": {
   "display_name": "MyEnv",
   "language": "python",
   "name": "myenv"
  },
  "language_info": {
   "codemirror_mode": {
    "name": "ipython",
    "version": 3
   },
   "file_extension": ".py",
   "mimetype": "text/x-python",
   "name": "python",
   "nbconvert_exporter": "python",
   "pygments_lexer": "ipython3",
   "version": "3.9.20"
  }
 },
 "nbformat": 4,
 "nbformat_minor": 5
}
